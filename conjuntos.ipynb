{
 "cells": [
  {
   "cell_type": "markdown",
   "id": "5a5a3a53",
   "metadata": {},
   "source": [
    "# Conjuntos"
   ]
  },
  {
   "cell_type": "code",
   "execution_count": 4,
   "id": "704a40a2",
   "metadata": {},
   "outputs": [],
   "source": [
    "# Criando um conjunto\n",
    "\n",
    "lista = [1,5,2,3,8,6,7,8,8,5]\n",
    "conjunto_1 = set(lista)"
   ]
  },
  {
   "cell_type": "code",
   "execution_count": 6,
   "id": "9d2347fb",
   "metadata": {},
   "outputs": [
    {
     "name": "stdout",
     "output_type": "stream",
     "text": [
      "{1, 2, 3, 5, 6, 7, 8}\n"
     ]
    }
   ],
   "source": [
    "print(conjunto_1)"
   ]
  },
  {
   "cell_type": "code",
   "execution_count": 7,
   "id": "9c84feea",
   "metadata": {},
   "outputs": [],
   "source": [
    "conjunto_2 = set([1,5,3,8,3,3,2,5,6])"
   ]
  },
  {
   "cell_type": "code",
   "execution_count": 8,
   "id": "f929f824",
   "metadata": {},
   "outputs": [
    {
     "name": "stdout",
     "output_type": "stream",
     "text": [
      "{1, 2, 3, 5, 6, 8}\n"
     ]
    }
   ],
   "source": [
    "print(conjunto_2)"
   ]
  },
  {
   "cell_type": "code",
   "execution_count": 9,
   "id": "dd4b5af3",
   "metadata": {},
   "outputs": [],
   "source": [
    "conjunto_2.add(49)"
   ]
  },
  {
   "cell_type": "code",
   "execution_count": 10,
   "id": "328d4b82",
   "metadata": {},
   "outputs": [
    {
     "name": "stdout",
     "output_type": "stream",
     "text": [
      "{1, 2, 3, 5, 6, 8, 49}\n"
     ]
    }
   ],
   "source": [
    "print(conjunto_2)"
   ]
  }
 ],
 "metadata": {
  "kernelspec": {
   "display_name": "Python 3 (ipykernel)",
   "language": "python",
   "name": "python3"
  },
  "language_info": {
   "codemirror_mode": {
    "name": "ipython",
    "version": 3
   },
   "file_extension": ".py",
   "mimetype": "text/x-python",
   "name": "python",
   "nbconvert_exporter": "python",
   "pygments_lexer": "ipython3",
   "version": "3.10.9"
  }
 },
 "nbformat": 4,
 "nbformat_minor": 5
}
